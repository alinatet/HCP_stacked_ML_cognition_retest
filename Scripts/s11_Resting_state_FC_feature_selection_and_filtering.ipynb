{
 "cells": [
  {
   "cell_type": "code",
   "execution_count": 1,
   "id": "0715f446",
   "metadata": {},
   "outputs": [],
   "source": [
    "import os\n",
    "import pandas as pd\n",
    "import numpy as np\n",
    "import glob\n",
    "from scipy.stats import pearsonr"
   ]
  },
  {
   "cell_type": "code",
   "execution_count": null,
   "id": "bbbe1ed3",
   "metadata": {},
   "outputs": [],
   "source": [
    "#path to folders\n",
    "path_m = '/media/DataD800/Alina/' #main set\n",
    "path_r = '/media/DataD800/Alina/retest_set/' #retest set"
   ]
  },
  {
   "cell_type": "code",
   "execution_count": 48,
   "id": "90bee99a",
   "metadata": {},
   "outputs": [],
   "source": [
    "# univariate feature filtering approach like in Dubois 2018, skip feature if  p > 0.01"
   ]
  },
  {
   "cell_type": "code",
   "execution_count": 49,
   "id": "fa36bd77",
   "metadata": {},
   "outputs": [],
   "source": [
    "#load tables with cognition and restFC\n",
    "\n",
    "df_iq = pd.read_csv(path_m+'MLtables/cognition_table.csv', index_col=0)['CogTotalComp_Unadj']\n",
    "df_iq = df_iq.dropna()\n",
    "df_rest = pd.read_csv(path_m+'MLtables/rest_table.csv', index_col=0)"
   ]
  },
  {
   "cell_type": "code",
   "execution_count": 53,
   "id": "98c2a378",
   "metadata": {},
   "outputs": [],
   "source": [
    "#excludeing everything with p-value bigger than 0.01\n",
    "cn=[]\n",
    "val = []\n",
    "for col in df_rest.columns:\n",
    "    p = pearsonr(df_rest.loc[df_iq.index, col], df_iq)[1]\n",
    "    val+=[p]\n",
    "    if p < 0.01:\n",
    "        cn+=[col]"
   ]
  },
  {
   "cell_type": "code",
   "execution_count": 54,
   "id": "9e96f611",
   "metadata": {},
   "outputs": [
    {
     "name": "stdout",
     "output_type": "stream",
     "text": [
      "2908\n"
     ]
    }
   ],
   "source": [
    "print(len(cn))"
   ]
  },
  {
   "cell_type": "code",
   "execution_count": 55,
   "id": "d0a35ce7",
   "metadata": {},
   "outputs": [],
   "source": [
    "#filter to chosen columns\n",
    "df_rest_filt = df_rest.loc[:,cn]\n",
    "#and save\n",
    "df_rest_filt.to_csv(path_m+'MLtables/rest_table_featfiltered.csv')"
   ]
  },
  {
   "cell_type": "code",
   "execution_count": 57,
   "id": "69d16761",
   "metadata": {},
   "outputs": [
    {
     "data": {
      "text/plain": [
       "(882, 2908)"
      ]
     },
     "execution_count": 57,
     "metadata": {},
     "output_type": "execute_result"
    }
   ],
   "source": [
    "df_rest_filt.shape"
   ]
  },
  {
   "cell_type": "code",
   "execution_count": null,
   "id": "86b9b7e4",
   "metadata": {},
   "outputs": [],
   "source": [
    "#filtering a retest set according to chosen ROIs"
   ]
  },
  {
   "cell_type": "code",
   "execution_count": 59,
   "id": "a44f3da0",
   "metadata": {},
   "outputs": [],
   "source": [
    "df_rest_retest = pd.read_csv(path_r+'MLtables/rest_table.csv', index_col=0)\n",
    "df_rest_filt_retest = df_rest_retest.loc[:,cn]\n",
    "df_rest_filt_retest.to_csv(path_r+'MLtables/rest_table_featfiltered.csv')"
   ]
  }
 ],
 "metadata": {
  "kernelspec": {
   "display_name": "Python 3",
   "language": "python",
   "name": "python3"
  },
  "language_info": {
   "codemirror_mode": {
    "name": "ipython",
    "version": 3
   },
   "file_extension": ".py",
   "mimetype": "text/x-python",
   "name": "python",
   "nbconvert_exporter": "python",
   "pygments_lexer": "ipython3",
   "version": "3.8.3"
  }
 },
 "nbformat": 4,
 "nbformat_minor": 5
}
